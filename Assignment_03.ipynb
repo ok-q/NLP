{
 "cells": [
  {
   "cell_type": "markdown",
   "metadata": {},
   "source": [
    "# 思考题-homework？    \n",
    "#### 如何在不带空格的时候完成自动修整？--> 如何完成拼音的自动分割？   \n",
    "###### 提示：使用第一节课提到的语言模型!"
   ]
  },
  {
   "cell_type": "markdown",
   "metadata": {},
   "source": [
    "0.语言模型（1-gram）"
   ]
  },
  {
   "cell_type": "code",
   "execution_count": 2,
   "metadata": {},
   "outputs": [],
   "source": [
    "chinese_dataset = 'article_9k.txt'"
   ]
  },
  {
   "cell_type": "code",
   "execution_count": 3,
   "metadata": {},
   "outputs": [],
   "source": [
    "CHINESE_CHARATERS = open(chinese_dataset, encoding ='utf-8').read()"
   ]
  },
  {
   "cell_type": "code",
   "execution_count": 4,
   "metadata": {},
   "outputs": [],
   "source": [
    "import pinyin"
   ]
  },
  {
   "cell_type": "code",
   "execution_count": 7,
   "metadata": {},
   "outputs": [],
   "source": [
    "def chinese_to_pinyin(character):\n",
    "    return pinyin.get(character, format='strip', delimiter=' ')"
   ]
  },
  {
   "cell_type": "code",
   "execution_count": 8,
   "metadata": {},
   "outputs": [],
   "source": [
    "CHINESE_CHARATERS_COPYS = chinese_to_pinyin(CHINESE_CHARATERS)"
   ]
  },
  {
   "cell_type": "code",
   "execution_count": 9,
   "metadata": {},
   "outputs": [
    {
     "data": {
      "text/plain": [
       "129433034"
      ]
     },
     "execution_count": 9,
     "metadata": {},
     "output_type": "execute_result"
    }
   ],
   "source": [
    "len(CHINESE_CHARATERS_COPYS)"
   ]
  },
  {
   "cell_type": "code",
   "execution_count": 10,
   "metadata": {},
   "outputs": [],
   "source": [
    "import re"
   ]
  },
  {
   "cell_type": "code",
   "execution_count": 11,
   "metadata": {},
   "outputs": [],
   "source": [
    "def tokens(text):\n",
    "    \"List all the pinyin characters\"\n",
    "    return re.findall('[a-z]+',text.lower())"
   ]
  },
  {
   "cell_type": "code",
   "execution_count": 12,
   "metadata": {},
   "outputs": [
    {
     "data": {
      "text/plain": [
       "['ci', 'wai', 'zi']"
      ]
     },
     "execution_count": 12,
     "metadata": {},
     "output_type": "execute_result"
    }
   ],
   "source": [
    "tokens(CHINESE_CHARATERS_COPYS[:10])"
   ]
  },
  {
   "cell_type": "code",
   "execution_count": 18,
   "metadata": {},
   "outputs": [],
   "source": [
    "from collections import Counter, defaultdict"
   ]
  },
  {
   "cell_type": "code",
   "execution_count": 19,
   "metadata": {},
   "outputs": [],
   "source": [
    "PINYIN_COUNT = Counter(tokens(CHINESE_CHARATERS_COPYS))"
   ]
  },
  {
   "cell_type": "code",
   "execution_count": 20,
   "metadata": {},
   "outputs": [
    {
     "data": {
      "text/plain": [
       "[('shi', 860634),\n",
       " ('de', 809887),\n",
       " ('n', 691114),\n",
       " ('yi', 682478),\n",
       " ('ji', 645276),\n",
       " ('guo', 430042),\n",
       " ('zhong', 409418),\n",
       " ('zhi', 398612),\n",
       " ('xin', 359619),\n",
       " ('li', 355441)]"
      ]
     },
     "execution_count": 20,
     "metadata": {},
     "output_type": "execute_result"
    }
   ],
   "source": [
    "PINYIN_COUNT.most_common(10)"
   ]
  },
  {
   "cell_type": "code",
   "execution_count": 63,
   "metadata": {},
   "outputs": [],
   "source": [
    "def price(string):\n",
    "    if string  not in PINYIN_COUNT:\n",
    "        return 0.0\n",
    "    else:\n",
    "        return PINYIN_COUNT[string]/sum(PINYIN_COUNT[i] for i in PINYIN_COUNT )"
   ]
  },
  {
   "cell_type": "code",
   "execution_count": 64,
   "metadata": {},
   "outputs": [
    {
     "data": {
      "text/plain": [
       "0.0030673301788907686"
      ]
     },
     "execution_count": 64,
     "metadata": {},
     "output_type": "execute_result"
    }
   ],
   "source": [
    "price('ci')"
   ]
  },
  {
   "cell_type": "markdown",
   "metadata": {},
   "source": [
    "1.切词"
   ]
  },
  {
   "cell_type": "code",
   "execution_count": 125,
   "metadata": {},
   "outputs": [],
   "source": [
    "def pinyin_split(word):\n",
    "    if word in memory:\n",
    "        return memory[word]\n",
    "    else:\n",
    "        # 使用 pinyin_split(word[:i]) * pinyin_split(word[i:]概率连乘获得拆分后拼音的概率值\n",
    "        max_prob, pos = max( [(price(word), 0)] \n",
    "                            + [( pinyin_split(word[i:]) * pinyin_split(word[:i]), i) for i in range(1, len(word))])\n",
    "        # 按pos拆分概率最大，存储到字典solution\n",
    "        solution[word] = (word[:pos], word[pos:])\n",
    "        \n",
    "        memory[word] = max_prob\n",
    "        \n",
    "        return max_prob"
   ]
  },
  {
   "cell_type": "code",
   "execution_count": 126,
   "metadata": {},
   "outputs": [
    {
     "data": {
      "text/plain": [
       "1.3180791971961196e-07"
      ]
     },
     "execution_count": 126,
     "metadata": {},
     "output_type": "execute_result"
    }
   ],
   "source": [
    "pinyin_split('shangdaxue')"
   ]
  },
  {
   "cell_type": "code",
   "execution_count": 127,
   "metadata": {},
   "outputs": [
    {
     "data": {
      "text/plain": [
       "defaultdict(None,\n",
       "            {'a': ('', 'a'),\n",
       "             'u': ('', 'u'),\n",
       "             'ua': ('u', 'a'),\n",
       "             'h': ('', 'h'),\n",
       "             'hu': ('', 'hu'),\n",
       "             'hua': ('', 'hua'),\n",
       "             'g': ('', 'g'),\n",
       "             'gh': ('g', 'h'),\n",
       "             'ghu': ('g', 'hu'),\n",
       "             'ghua': ('g', 'hua'),\n",
       "             'n': ('', 'n'),\n",
       "             'ng': ('n', 'g'),\n",
       "             'ngh': ('ng', 'h'),\n",
       "             'nghu': ('ng', 'hu'),\n",
       "             'nghua': ('n', 'ghua'),\n",
       "             'i': ('', 'i'),\n",
       "             'in': ('i', 'n'),\n",
       "             'ing': ('in', 'g'),\n",
       "             'ingh': ('in', 'gh'),\n",
       "             'inghu': ('ing', 'hu'),\n",
       "             'inghua': ('in', 'ghua'),\n",
       "             'q': ('', 'q'),\n",
       "             'qi': ('', 'qi'),\n",
       "             'qin': ('', 'qin'),\n",
       "             'qing': ('', 'qing'),\n",
       "             'qingh': ('qing', 'h'),\n",
       "             'qinghu': ('qing', 'hu'),\n",
       "             'qinghua': ('qing', 'hua'),\n",
       "             'gq': ('g', 'q'),\n",
       "             'gqi': ('g', 'qi'),\n",
       "             'gqin': ('g', 'qin'),\n",
       "             'gqing': ('g', 'qing'),\n",
       "             'gqingh': ('gqing', 'h'),\n",
       "             'gqinghu': ('g', 'qinghu'),\n",
       "             'gqinghua': ('gqing', 'hua'),\n",
       "             'ngq': ('ng', 'q'),\n",
       "             'ngqi': ('ng', 'qi'),\n",
       "             'ngqin': ('ng', 'qin'),\n",
       "             'ngqing': ('ng', 'qing'),\n",
       "             'ngqingh': ('ngqing', 'h'),\n",
       "             'ngqinghu': ('ngqing', 'hu'),\n",
       "             'ngqinghua': ('ng', 'qinghua'),\n",
       "             'an': ('', 'an'),\n",
       "             'ang': ('', 'ang'),\n",
       "             'angq': ('ang', 'q'),\n",
       "             'angqi': ('ang', 'qi'),\n",
       "             'angqin': ('ang', 'qin'),\n",
       "             'angqing': ('ang', 'qing'),\n",
       "             'angqingh': ('angqing', 'h'),\n",
       "             'angqinghu': ('angqing', 'hu'),\n",
       "             'angqinghua': ('angqing', 'hua'),\n",
       "             'ha': ('', 'ha'),\n",
       "             'han': ('', 'han'),\n",
       "             'hang': ('', 'hang'),\n",
       "             'hangq': ('hang', 'q'),\n",
       "             'hangqi': ('hang', 'qi'),\n",
       "             'hangqin': ('hang', 'qin'),\n",
       "             'hangqing': ('hang', 'qing'),\n",
       "             'hangqingh': ('hangqing', 'h'),\n",
       "             'hangqinghu': ('hangqing', 'hu'),\n",
       "             'hangqinghua': ('hangqing', 'hua'),\n",
       "             's': ('', 's'),\n",
       "             'sh': ('s', 'h'),\n",
       "             'sha': ('', 'sha'),\n",
       "             'shan': ('', 'shan'),\n",
       "             'shang': ('', 'shang'),\n",
       "             'shangq': ('shang', 'q'),\n",
       "             'shangqi': ('shang', 'qi'),\n",
       "             'shangqin': ('shang', 'qin'),\n",
       "             'shangqing': ('shang', 'qing'),\n",
       "             'shangqingh': ('shangqing', 'h'),\n",
       "             'shangqinghu': ('shangqing', 'hu'),\n",
       "             'shangqinghua': ('shangqing', 'hua'),\n",
       "             'o': ('', 'o'),\n",
       "             'os': ('o', 's'),\n",
       "             'osh': ('os', 'h'),\n",
       "             'osha': ('o', 'sha'),\n",
       "             'oshan': ('o', 'shan'),\n",
       "             'oshang': ('o', 'shang'),\n",
       "             'oshangq': ('oshang', 'q'),\n",
       "             'oshangqi': ('oshang', 'qi'),\n",
       "             'oshangqin': ('oshang', 'qin'),\n",
       "             'oshangqing': ('oshang', 'qing'),\n",
       "             'oshangqingh': ('oshangqing', 'h'),\n",
       "             'oshangqinghu': ('oshang', 'qinghu'),\n",
       "             'oshangqinghua': ('oshangqing', 'hua'),\n",
       "             'ao': ('', 'ao'),\n",
       "             'aos': ('ao', 's'),\n",
       "             'aosh': ('ao', 'sh'),\n",
       "             'aosha': ('ao', 'sha'),\n",
       "             'aoshan': ('ao', 'shan'),\n",
       "             'aoshang': ('ao', 'shang'),\n",
       "             'aoshangq': ('aoshang', 'q'),\n",
       "             'aoshangqi': ('ao', 'shangqi'),\n",
       "             'aoshangqin': ('ao', 'shangqin'),\n",
       "             'aoshangqing': ('aoshang', 'qing'),\n",
       "             'aoshangqingh': ('aoshangqing', 'h'),\n",
       "             'aoshangqinghu': ('aoshangqing', 'hu'),\n",
       "             'aoshangqinghua': ('aoshangqing', 'hua'),\n",
       "             'y': ('', 'y'),\n",
       "             'ya': ('', 'ya'),\n",
       "             'yao': ('', 'yao'),\n",
       "             'yaos': ('yao', 's'),\n",
       "             'yaosh': ('yaos', 'h'),\n",
       "             'yaosha': ('yao', 'sha'),\n",
       "             'yaoshan': ('yao', 'shan'),\n",
       "             'yaoshang': ('yao', 'shang'),\n",
       "             'yaoshangq': ('yaoshang', 'q'),\n",
       "             'yaoshangqi': ('yao', 'shangqi'),\n",
       "             'yaoshangqin': ('yao', 'shangqin'),\n",
       "             'yaoshangqing': ('yaoshang', 'qing'),\n",
       "             'yaoshangqingh': ('yaoshangqing', 'h'),\n",
       "             'yaoshangqinghu': ('yao', 'shangqinghu'),\n",
       "             'yaoshangqinghua': ('yaoshangqing', 'hua'),\n",
       "             'oy': ('o', 'y'),\n",
       "             'oya': ('o', 'ya'),\n",
       "             'oyao': ('o', 'yao'),\n",
       "             'oyaos': ('oyao', 's'),\n",
       "             'oyaosh': ('oyaos', 'h'),\n",
       "             'oyaosha': ('oyao', 'sha'),\n",
       "             'oyaoshan': ('o', 'yaoshan'),\n",
       "             'oyaoshang': ('oyao', 'shang'),\n",
       "             'oyaoshangq': ('oyaoshang', 'q'),\n",
       "             'oyaoshangqi': ('oyao', 'shangqi'),\n",
       "             'oyaoshangqin': ('oyao', 'shangqin'),\n",
       "             'oyaoshangqing': ('oyao', 'shangqing'),\n",
       "             'oyaoshangqingh': ('oyaoshangqing', 'h'),\n",
       "             'oyaoshangqinghu': ('oyaoshangqing', 'hu'),\n",
       "             'oyaoshangqinghua': ('oyaoshangqing', 'hua'),\n",
       "             'w': ('', 'w'),\n",
       "             'wo': ('', 'wo'),\n",
       "             'woy': ('wo', 'y'),\n",
       "             'woya': ('wo', 'ya'),\n",
       "             'woyao': ('wo', 'yao'),\n",
       "             'woyaos': ('woyao', 's'),\n",
       "             'woyaosh': ('woyaos', 'h'),\n",
       "             'woyaosha': ('woyao', 'sha'),\n",
       "             'woyaoshan': ('woyao', 'shan'),\n",
       "             'woyaoshang': ('woyao', 'shang'),\n",
       "             'woyaoshangq': ('woyaoshang', 'q'),\n",
       "             'woyaoshangqi': ('woyaoshang', 'qi'),\n",
       "             'woyaoshangqin': ('woyaoshang', 'qin'),\n",
       "             'woyaoshangqing': ('woyaoshang', 'qing'),\n",
       "             'woyaoshangqingh': ('woyaoshangqing', 'h'),\n",
       "             'woyaoshangqinghu': ('woyaoshangqing', 'hu'),\n",
       "             'woyaoshangqinghua': ('woyaoshangqing', 'hua'),\n",
       "             'e': ('', 'e'),\n",
       "             'ue': ('u', 'e'),\n",
       "             'x': ('', 'x'),\n",
       "             'xu': ('', 'xu'),\n",
       "             'xue': ('', 'xue'),\n",
       "             'ax': ('a', 'x'),\n",
       "             'axu': ('a', 'xu'),\n",
       "             'axue': ('a', 'xue'),\n",
       "             'd': ('', 'd'),\n",
       "             'da': ('', 'da'),\n",
       "             'dax': ('da', 'x'),\n",
       "             'daxu': ('da', 'xu'),\n",
       "             'daxue': ('da', 'xue'),\n",
       "             'gd': ('g', 'd'),\n",
       "             'gda': ('g', 'da'),\n",
       "             'gdax': ('gda', 'x'),\n",
       "             'gdaxu': ('gda', 'xu'),\n",
       "             'gdaxue': ('gda', 'xue'),\n",
       "             'ngd': ('ng', 'd'),\n",
       "             'ngda': ('n', 'gda'),\n",
       "             'ngdax': ('ngda', 'x'),\n",
       "             'ngdaxu': ('ngda', 'xu'),\n",
       "             'ngdaxue': ('ngda', 'xue'),\n",
       "             'angd': ('ang', 'd'),\n",
       "             'angda': ('ang', 'da'),\n",
       "             'angdax': ('angda', 'x'),\n",
       "             'angdaxu': ('angda', 'xu'),\n",
       "             'angdaxue': ('ang', 'daxue'),\n",
       "             'hangd': ('hang', 'd'),\n",
       "             'hangda': ('hang', 'da'),\n",
       "             'hangdax': ('hangda', 'x'),\n",
       "             'hangdaxu': ('hangda', 'xu'),\n",
       "             'hangdaxue': ('hangda', 'xue'),\n",
       "             'shangd': ('shang', 'd'),\n",
       "             'shangda': ('shang', 'da'),\n",
       "             'shangdax': ('shangda', 'x'),\n",
       "             'shangdaxu': ('shangda', 'xu'),\n",
       "             'shangdaxue': ('shangda', 'xue')})"
      ]
     },
     "execution_count": 127,
     "metadata": {},
     "output_type": "execute_result"
    }
   ],
   "source": [
    "solution"
   ]
  },
  {
   "cell_type": "code",
   "execution_count": 128,
   "metadata": {},
   "outputs": [],
   "source": [
    "def parse_solution(word):\n",
    "    left_split, right_split = solution[word]\n",
    "    \n",
    "    if left_split == '': return [right_split]\n",
    "    return parse_solution(left_split) + parse_solution(right_split)"
   ]
  },
  {
   "cell_type": "code",
   "execution_count": 129,
   "metadata": {},
   "outputs": [
    {
     "data": {
      "text/plain": [
       "['shang', 'da', 'xue']"
      ]
     },
     "execution_count": 129,
     "metadata": {},
     "output_type": "execute_result"
    }
   ],
   "source": [
    "p = parse_solution('shangdaxue')\n",
    "p"
   ]
  },
  {
   "cell_type": "markdown",
   "metadata": {},
   "source": [
    "2.词修正，对应不同的概率"
   ]
  },
  {
   "cell_type": "code",
   "execution_count": 130,
   "metadata": {},
   "outputs": [],
   "source": [
    "def correct(word):\n",
    "    'Find the most possible pinyin based on edit distance'\n",
    "    # Prefer edit distance 0, then 1, then 2; otherwist default to word itself\n",
    "    candidates = (known(edits0(word)) or\n",
    "                  known(edits1(word)) or\n",
    "                  known(edits2(word)) or\n",
    "                  [word])\n",
    "    return max(candidates,key=PINYIN_COUNT.get)"
   ]
  },
  {
   "cell_type": "code",
   "execution_count": 131,
   "metadata": {},
   "outputs": [],
   "source": [
    "def known(words):\n",
    "    'Return the pinyin in our data'\n",
    "    return {w for w in words if w in PINYIN_COUNT}\n",
    "\n",
    "def edits0(word):\n",
    "    'Return all strings that are zero edits away from word (i.e., just word itself).'\n",
    "    return {word}\n",
    "\n",
    "def edits2(word):\n",
    "    'Return all strings that are two edits away from this pinyin.'\n",
    "    return {e2 for e1 in edits1(word) for e2 in edits1(e1)}"
   ]
  },
  {
   "cell_type": "code",
   "execution_count": 132,
   "metadata": {},
   "outputs": [],
   "source": [
    "alphabet = 'abcdefghijklmnopqrstuvwxyz'\n",
    "\n",
    "def splits(word):\n",
    "    'Return a list of all possible (first, rest) pairs that comprise pinyin.'\n",
    "    return [(word[:i], word[i:])\n",
    "           for i in range(len(word)+1)]\n",
    "\n",
    "def edits1(word):\n",
    "    'Return all strings that are one edit away from this pinyin.'\n",
    "    pairs = splits(word)\n",
    "    deletes = [a+b[1:] for (a,b) in pairs if b]\n",
    "    transposes = [a+b[1]+b[0]+b[2:] for (a,b) in pairs if len(b) > 1]\n",
    "    replaces = [a+c+b[1:] for (a,b) in pairs for c in alphabet if b]\n",
    "    inserts = [a+c+b for (a,b) in pairs for c in alphabet]\n",
    "    return set(deletes + transposes + replaces + inserts)"
   ]
  },
  {
   "cell_type": "code",
   "execution_count": 135,
   "metadata": {},
   "outputs": [],
   "source": [
    "def correct_sequence_pinyin(p):\n",
    "    return ' '.join(map(correct, p))"
   ]
  },
  {
   "cell_type": "code",
   "execution_count": 137,
   "metadata": {},
   "outputs": [
    {
     "data": {
      "text/plain": [
       "'shang da xue'"
      ]
     },
     "execution_count": 137,
     "metadata": {},
     "output_type": "execute_result"
    }
   ],
   "source": [
    "correct_sequence_pinyin((p))"
   ]
  }
 ],
 "metadata": {
  "kernelspec": {
   "display_name": "Python 3",
   "language": "python",
   "name": "python3"
  },
  "language_info": {
   "codemirror_mode": {
    "name": "ipython",
    "version": 3
   },
   "file_extension": ".py",
   "mimetype": "text/x-python",
   "name": "python",
   "nbconvert_exporter": "python",
   "pygments_lexer": "ipython3",
   "version": "3.7.6"
  }
 },
 "nbformat": 4,
 "nbformat_minor": 4
}
