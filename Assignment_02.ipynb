{
 "cells": [
  {
   "cell_type": "markdown",
   "metadata": {},
   "source": [
    "# Assignment 2\n"
   ]
  },
  {
   "cell_type": "markdown",
   "metadata": {},
   "source": [
    "#### 1. 复习上课内容以及复现课程代码"
   ]
  },
  {
   "cell_type": "markdown",
   "metadata": {},
   "source": [
    "在本部分，你需要在复习上课内容和课程代码后，复现课程代码。 "
   ]
  },
  {
   "cell_type": "markdown",
   "metadata": {},
   "source": [
    "#### 2. 回答以下理论题目"
   ]
  },
  {
   "cell_type": "markdown",
   "metadata": {},
   "source": [
    "###       < 评阅点 >： 答案是否正确完整"
   ]
  },
  {
   "cell_type": "markdown",
   "metadata": {},
   "source": [
    "###### 2.1 What conditions are required to make the BFS return the optimal solution ?"
   ]
  },
  {
   "cell_type": "markdown",
   "metadata": {},
   "source": [
    "cost非负；搜索历史可以排序"
   ]
  },
  {
   "cell_type": "markdown",
   "metadata": {},
   "source": [
    "##### 2.2 Is there a way to make DFS find the optimal solution ? (You may need to read some material about iterative DFS)"
   ]
  },
  {
   "cell_type": "markdown",
   "metadata": {},
   "source": [
    "遍历所有路径"
   ]
  },
  {
   "cell_type": "markdown",
   "metadata": {},
   "source": [
    "##### 2.3 In what conditions BFS is a better choice than DFS and vice versa ?"
   ]
  },
  {
   "cell_type": "markdown",
   "metadata": {},
   "source": [
    "如果目标离树的根部不远，BFS会更好。\n",
    "如果树很深并且目标少，BFS会更快。\n",
    "如果树很宽，目标多，但位于树的深处，DFS会更好。\n",
    "如果树深，则无论如何（例如迭代加深），都需要限制DFS的search深度。\n",
    "DS通常用于游戏的模拟。"
   ]
  },
  {
   "cell_type": "markdown",
   "metadata": {},
   "source": [
    "##### 2.4 When can we use machine learning ?"
   ]
  },
  {
   "cell_type": "markdown",
   "metadata": {},
   "source": [
    "数据很多，呈现一定规律。"
   ]
  },
  {
   "cell_type": "markdown",
   "metadata": {},
   "source": [
    "##### 2.5 What is the gradient of a function ?"
   ]
  },
  {
   "cell_type": "markdown",
   "metadata": {},
   "source": [
    "导数的函数"
   ]
  },
  {
   "cell_type": "markdown",
   "metadata": {},
   "source": [
    "##### 2.6 How can we find the maximum value of a function using the information of gradient ?"
   ]
  },
  {
   "cell_type": "markdown",
   "metadata": {},
   "source": [
    "梯度函数接近0."
   ]
  },
  {
   "cell_type": "markdown",
   "metadata": {},
   "source": [
    "#### 3. 实践部分  寻找地铁路线"
   ]
  },
  {
   "cell_type": "markdown",
   "metadata": {},
   "source": [
    "### < 评阅点 >  1: 爬虫爬取数据是否完整;  2:搜索算法是否正确"
   ]
  },
  {
   "cell_type": "markdown",
   "metadata": {},
   "source": [
    "In this part, although we recommend you to use Beijing subway, you still can use the subway map of any cities that you are interested in. "
   ]
  },
  {
   "cell_type": "markdown",
   "metadata": {},
   "source": [
    "![title](img/ditu.png)"
   ]
  },
  {
   "cell_type": "markdown",
   "metadata": {},
   "source": [
    "Please using the search policy to implement an agent. This agent receives two input, one is @param start station and the other is @param destination. Your agent should give the optimal route based on Beijing Subway system."
   ]
  },
  {
   "cell_type": "markdown",
   "metadata": {},
   "source": [
    "Deadline: 2019-May"
   ]
  },
  {
   "cell_type": "markdown",
   "metadata": {},
   "source": [
    "#### Procedures"
   ]
  },
  {
   "cell_type": "markdown",
   "metadata": {},
   "source": [
    "#### 1. Get data from web.  "
   ]
  },
  {
   "cell_type": "markdown",
   "metadata": {},
   "source": [
    "Some tips: "
   ]
  },
  {
   "cell_type": "markdown",
   "metadata": {},
   "source": [
    "a. You might need this package: requests[https://2.python-requests.org/en/master/] to get webpages"
   ]
  },
  {
   "cell_type": "code",
   "execution_count": 6,
   "metadata": {},
   "outputs": [
    {
     "data": {
      "text/plain": [
       "200"
      ]
     },
     "execution_count": 6,
     "metadata": {},
     "output_type": "execute_result"
    }
   ],
   "source": [
    "import requests\n",
    "r = requests.get('https://dt.8684.cn/nj', auth=('user', 'pass'))\n",
    "r.status_code"
   ]
  },
  {
   "cell_type": "code",
   "execution_count": 7,
   "metadata": {},
   "outputs": [
    {
     "data": {
      "text/plain": [
       "'text/html'"
      ]
     },
     "execution_count": 7,
     "metadata": {},
     "output_type": "execute_result"
    }
   ],
   "source": [
    "r.headers['content-type']"
   ]
  },
  {
   "cell_type": "code",
   "execution_count": 8,
   "metadata": {},
   "outputs": [],
   "source": [
    "r.encoding = 'utf-8'"
   ]
  },
  {
   "cell_type": "code",
   "execution_count": 9,
   "metadata": {},
   "outputs": [],
   "source": [
    "html_doc = r.text"
   ]
  },
  {
   "cell_type": "markdown",
   "metadata": {},
   "source": [
    "b.You might need to use Regular Expression and Beautiful Soap package to parse the webpages"
   ]
  },
  {
   "cell_type": "code",
   "execution_count": 10,
   "metadata": {},
   "outputs": [],
   "source": [
    "import re\n",
    "from bs4 import BeautifulSoup"
   ]
  },
  {
   "cell_type": "code",
   "execution_count": 235,
   "metadata": {},
   "outputs": [],
   "source": [
    "soup = BeautifulSoup(html_doc, 'html.parser')\n",
    "#soup.prettify()"
   ]
  },
  {
   "cell_type": "markdown",
   "metadata": {},
   "source": [
    "##### 2. Preprocessing data"
   ]
  },
  {
   "cell_type": "markdown",
   "metadata": {},
   "source": [
    "Some tips:"
   ]
  },
  {
   "cell_type": "markdown",
   "metadata": {},
   "source": [
    "a. Find a suitable way to save the data you get from the web. (Note: The way you use to save the data should be able to be used to create the graph that your agent is going to explore)"
   ]
  },
  {
   "cell_type": "code",
   "execution_count": 33,
   "metadata": {},
   "outputs": [],
   "source": [
    "starline_number = html_doc.find('南京地铁线路列表')\n",
    "endline_number = html_doc.find('南京地铁5号线')\n",
    "html_doc = html_doc[starline_number: endline_number] "
   ]
  },
  {
   "cell_type": "code",
   "execution_count": 236,
   "metadata": {},
   "outputs": [],
   "source": [
    "pattern = re.compile(\"南京地铁[\\w][\\w]?号线\")\n",
    "route1 = pattern.findall(html_doc)\n",
    "pattern = re.compile(\"S?[\\d][\\d]?\")\n",
    "route2 = pattern.findall(''.join(route1))\n",
    "route = ['line' + i for i in route2]\n",
    "#route"
   ]
  },
  {
   "cell_type": "code",
   "execution_count": 155,
   "metadata": {},
   "outputs": [],
   "source": [
    "station = re.findall('[\\u4e00-\\u9fa5]+', html_doc)"
   ]
  },
  {
   "cell_type": "code",
   "execution_count": 156,
   "metadata": {},
   "outputs": [],
   "source": [
    "station_arrange = [[] for i in range(len(route))]"
   ]
  },
  {
   "cell_type": "code",
   "execution_count": 172,
   "metadata": {},
   "outputs": [],
   "source": [
    "i = -1\n",
    "for b in station[1:]:\n",
    "    station_arrange[i].append(b)\n",
    "    if b == '南京地铁':\n",
    "        station_arrange[i].pop()\n",
    "    if b == '号线':\n",
    "        station_arrange[i].pop()\n",
    "        i += 1"
   ]
  },
  {
   "cell_type": "code",
   "execution_count": 179,
   "metadata": {},
   "outputs": [],
   "source": [
    "subway=[[] for i in range(len(route))]\n",
    "for i in range(10):\n",
    "    subway[i]= (str(route[i])) + '=' + '\\'' + ' '.join(station_arrange[i]) + '\\''+','\n",
    "a = ''.join(subway)"
   ]
  },
  {
   "cell_type": "code",
   "execution_count": 225,
   "metadata": {},
   "outputs": [],
   "source": [
    "def build_subway(**lines):\n",
    "    \"\"\"\n",
    "    Input is build_subway(linename='station1 station2...'...)\n",
    "    Ouput is a dictionary like {station:{neighbor1:line number,neighbor2:line number,...},station2:{...},...}\n",
    "    \"\"\"\n",
    "    for key in lines.keys():\n",
    "        value = lines[key]\n",
    "        lines[key] = value.split()\n",
    "    stations = set()\n",
    "    for key in lines.keys():\n",
    "        stations.update(set(lines[key]))\n",
    "    graph = {}\n",
    "    for station in stations:\n",
    "        next_station = {}\n",
    "        for key in lines:\n",
    "            if station in lines[key]:\n",
    "                value = lines[key]\n",
    "                idx = value.index(station)\n",
    "                if idx == 0:\n",
    "                    next_station[value[1]] = key\n",
    "                elif idx == len(value)-1:\n",
    "                    next_station[value[idx-1]]=key\n",
    "                else:\n",
    "                    next_station[value[idx-1]] = key\n",
    "                    next_station[value[idx+1]] = key\n",
    "        graph[station] = next_station\n",
    "    return graph"
   ]
  },
  {
   "cell_type": "code",
   "execution_count": 237,
   "metadata": {},
   "outputs": [],
   "source": [
    "line_subway = build_subway(line1='迈皋桥 红山动物园 南京站 新模范马路 玄武门 鼓楼 珠江路 新街口 张府园 三山街 中华门 安德门 天隆寺 软件大道 花神庙 南京南站 双龙大道 河定桥 胜太路 百家湖 小龙湾 竹山路 天印大道 龙眠大道 江苏经贸学院 南京交院 中国药科大学',line2='油坊桥 雨润大街 元通 奥体东 兴隆大街 集庆门大街 云锦路 莫愁湖 汉中门 上海路 新街口 大行宫 西安门 明故宫 苜蓿园 下马坊 孝陵卫 钟灵街 马群 金马路 仙鹤门 学则路 仙林中心 羊山公园 南大仙林校区 经天路',line3='林场 星火路 东大成贤学院 泰冯路 天润城 柳洲东路 上元门 五塘广场 小市 南京站 南京林业大学 新庄 鸡鸣寺 浮桥 大行宫 常府街 夫子庙 武定门 雨花门 卡子门 大明路 明发广场 南京南站 宏运大道 胜太西路 天元西路 九龙湖 诚信大道 东大九龙湖校区 秣周东路',line4='仙林湖 西岗桦墅 孟北 东流 灵山 汇通路 金马路 苏宁总部 徐庄 聚宝山 王家湾 蒋王庙 岗子村 九华山 鸡鸣寺 鼓楼 云南路 南艺 二师 草场门 龙江',line10='安德门 小行 中胜 元通 奥体中心 梦都大街 绿博园 江心洲 临江 青奥体育公园 浦口万汇城 南京工业大学 龙华路 文德路 雨山路', lineS1='机场线 南京南站 翠屏山 河海大学佛城西路 吉印大道 正方中路 翔宇路北 翔宇路南 禄口机场 空港新城江宁',lineS3='宁和城际 高家冲 林山 桥林新城 石碛河 双垅 兰花塘 马骡圩 刘村 天保 高庙路 吴侯街 平良大街 永初路 油坊桥 贾西 春江路 铁心桥 景明佳园 南京南站',lineS7='宁溧城际 空港新城江宁 柘塘 空港新城溧水 群力 卧龙湖 溧水 中山湖 幸庄 无想山',lineS8='宁天城际 泰山新村 泰冯路 高新开发区 信息工程大学 卸甲甸 大厂 葛塘 长芦 化工园 六合开发区 龙池 雄州 凤凰山公园 方州广场 沈桥 八百桥 金牛湖',lineS9='宁高城际 翔宇路南 铜山 石湫 明觉 团结圩 高淳')\n",
    "#line_subway"
   ]
  },
  {
   "cell_type": "markdown",
   "metadata": {},
   "source": [
    "#### 3. Build the search agent"
   ]
  },
  {
   "cell_type": "markdown",
   "metadata": {},
   "source": [
    "Build the search agent based ont he graph you built."
   ]
  },
  {
   "cell_type": "code",
   "execution_count": 227,
   "metadata": {},
   "outputs": [],
   "source": [
    "def search_1(graph,start,destination):\n",
    "    pathes = [[start]]  # list 用来存储待搜索路径\n",
    "    visited = set() # set用来存储已搜索的节点\n",
    "    \n",
    "    while pathes:\n",
    "        path = pathes.pop(0)  #提取第一条路径\n",
    "        froniter = path[-1]   #提取即将要探索的节点\n",
    "        \n",
    "        if froniter in visited: continue  #检查如果该点已经探索过 则不用再探索\n",
    "            \n",
    "        successsors = graph[froniter]\n",
    "        \n",
    "        for city in successsors:      #遍历子节点\n",
    "            if city in path: continue  # check loop #检查会不会形成环\n",
    "            \n",
    "            new_path = path+[city]\n",
    "            \n",
    "            pathes.append(new_path)  #bfs     #将新路径加到list里面\n",
    "            #pathes = [new_path] + pathes #dfs\n",
    "            \n",
    "            if city == destination:  #检查目的地是不是已经搜索到了\n",
    "                return new_path\n",
    "        visited.add(froniter)"
   ]
  },
  {
   "cell_type": "code",
   "execution_count": 230,
   "metadata": {},
   "outputs": [],
   "source": [
    "def shorter_path(start, goal):\n",
    "    \"\"\"\n",
    "    without consideration of the change times fina shortest path\n",
    "    \"\"\"\n",
    "    if start == goal:\n",
    "        return [start]\n",
    "    explored = set() \n",
    "    queue = [ [start] ] \n",
    "    while queue:\n",
    "        path = queue.pop(0)\n",
    "        s = path[-1]\n",
    "        for state, action in line_subway[s].items():\n",
    "            if state not in explored:\n",
    "                explored.add(state)\n",
    "                path2 = path + [action, state]\n",
    "                if state == goal:\n",
    "                    return path2\n",
    "                else:\n",
    "                    queue.append(path2)\n",
    "    return []"
   ]
  },
  {
   "cell_type": "code",
   "execution_count": 231,
   "metadata": {},
   "outputs": [
    {
     "data": {
      "text/plain": [
       "['鸡鸣寺',\n",
       " 'line3',\n",
       " '浮桥',\n",
       " 'line3',\n",
       " '大行宫',\n",
       " 'line2',\n",
       " '西安门',\n",
       " 'line2',\n",
       " '明故宫',\n",
       " 'line2',\n",
       " '苜蓿园',\n",
       " 'line2',\n",
       " '下马坊',\n",
       " 'line2',\n",
       " '孝陵卫',\n",
       " 'line2',\n",
       " '钟灵街',\n",
       " 'line2',\n",
       " '马群']"
      ]
     },
     "execution_count": 231,
     "metadata": {},
     "output_type": "execute_result"
    }
   ],
   "source": [
    "shorter_path('鸡鸣寺','马群')"
   ]
  },
  {
   "cell_type": "markdown",
   "metadata": {},
   "source": [
    "for example, if you use Beijing subway graoh, and you run:"
   ]
  },
  {
   "cell_type": "markdown",
   "metadata": {},
   "source": [
    "### (Optional) Improve your agent to make it able to find a path based on different strategies"
   ]
  },
  {
   "cell_type": "markdown",
   "metadata": {},
   "source": [
    "###  <评阅点> : 是否正确得到不同目标下的路径。"
   ]
  },
  {
   "cell_type": "markdown",
   "metadata": {},
   "source": [
    "Some ideas you might want to try:"
   ]
  },
  {
   "cell_type": "markdown",
   "metadata": {},
   "source": [
    "a. Find the shortest path between two stations."
   ]
  },
  {
   "cell_type": "markdown",
   "metadata": {},
   "source": [
    "b. Find the path that requires minimum transfers between two stations."
   ]
  },
  {
   "cell_type": "markdown",
   "metadata": {},
   "source": [
    "c. Combine the previous two ideas, find a more suitable path."
   ]
  },
  {
   "cell_type": "markdown",
   "metadata": {},
   "source": [
    "Compare your results with results obtained by using some apps such as Baidu map, A map, Google map or Apple map. If there is difference, try to explanate it."
   ]
  },
  {
   "cell_type": "code",
   "execution_count": null,
   "metadata": {},
   "outputs": [],
   "source": [
    "import pandas\n",
    "from bs4 import BeautifulSoup \n",
    "from urllib import request\n",
    "import re\n",
    "import pandas as pd\n",
    "import numpy as np\n",
    "import urllib.parse as urp\n",
    "from xml.etree import ElementTree\n",
    "import time\n",
    "\n",
    "def __get_location1__(name,city):  \n",
    "        my_ak = '9a5XmyAVTyunpTqZkv48c9ghnEFpswPa'    # 需要自己填写自己的AK\n",
    "        tag = urp.quote('地铁站')\n",
    "        qurey = urp.quote(name)\n",
    "        try:\n",
    "            url = 'http://api.map.baidu.com/place/v2/search?query='+qurey+'&tag='+'&region='+urp.quote(city)+'&output=json&ak='+my_ak\n",
    "            print(url)\n",
    "            req = request.urlopen(url)\n",
    "            res = req.read().decode()\n",
    "            lat = pd.to_numeric(re.findall('\"lat\":(.*)',res)[0].split(',')[0])\n",
    "            lng = pd.to_numeric(re.findall('\"lng\":(.*)',res)[0])\n",
    "            return (lng,lat)  #经度和纬度\n",
    "        except:\n",
    "            return 0,0"
   ]
  },
  {
   "cell_type": "code",
   "execution_count": 185,
   "metadata": {},
   "outputs": [
    {
     "name": "stdout",
     "output_type": "stream",
     "text": [
      "http://api.map.baidu.com/place/v2/search?query=%E9%B8%A1%E9%B8%A3%E5%AF%BA&tag=&region=%E5%8D%97%E4%BA%AC&output=json&ak=9a5XmyAVTyunpTqZkv48c9ghnEFpswPa\n"
     ]
    },
    {
     "data": {
      "text/plain": [
       "(118.80186100000002, 32.067125)"
      ]
     },
     "execution_count": 185,
     "metadata": {},
     "output_type": "execute_result"
    }
   ],
   "source": [
    "__get_location1__('鸡鸣寺','南京')"
   ]
  },
  {
   "cell_type": "markdown",
   "metadata": {},
   "source": [
    "## Congratulations ! You have finished the assignment of week 2."
   ]
  },
  {
   "cell_type": "markdown",
   "metadata": {},
   "source": [
    "![title](img/agent.png)"
   ]
  },
  {
   "cell_type": "markdown",
   "metadata": {},
   "source": [
    "### If you have any suggestions regarding the teaching, please feel free to send them to my eamil (eric.lee.xiao@gmail.com) "
   ]
  }
 ],
 "metadata": {
  "kernelspec": {
   "display_name": "Python 3",
   "language": "python",
   "name": "python3"
  },
  "language_info": {
   "codemirror_mode": {
    "name": "ipython",
    "version": 3
   },
   "file_extension": ".py",
   "mimetype": "text/x-python",
   "name": "python",
   "nbconvert_exporter": "python",
   "pygments_lexer": "ipython3",
   "version": "3.7.6"
  }
 },
 "nbformat": 4,
 "nbformat_minor": 4
}
